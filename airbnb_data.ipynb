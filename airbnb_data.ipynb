{
 "cells": [
  {
   "cell_type": "markdown",
   "metadata": {},
   "source": [
    "## 1. Business understanding: what are the 3 questions we want to ask?\n",
    "1.\tDo Seattle and Boston follow the same pattern of availability?\n",
    "2.\tWhich season is the most popular? \n",
    "3.\tWhich is the most popular neighbourhood in Boston? \n"
   ]
  },
  {
   "cell_type": "code",
   "execution_count": 662,
   "metadata": {},
   "outputs": [],
   "source": [
    "# Import relevant packages\n",
    "import pandas as pd\n",
    "import numpy as np\n",
    "import matplotlib.pyplot as plt\n",
    "from datetime import datetime"
   ]
  },
  {
   "cell_type": "code",
   "execution_count": 663,
   "metadata": {},
   "outputs": [],
   "source": [
    "# Read in data and drop all columns where all values are NaN\n",
    "bos_cal=pd.read_csv('airbnb_data/boston_calendar.csv').dropna(axis=1, how='all')\n",
    "bos_list=pd.read_csv('airbnb_data/boston_listings.csv').dropna(axis=1, how='all')\n",
    "bos_rev=pd.read_csv('airbnb_data/boston_reviews.csv').dropna(axis=1, how='all')\n",
    "sea_cal=pd.read_csv('airbnb_data/seattle_calendar.csv').dropna(axis=1, how='all')\n",
    "sea_list=pd.read_csv('airbnb_data/seattle_listings.csv').dropna(axis=1, how='all')\n",
    "sea_rev=pd.read_csv('airbnb_data/seattle_reviews.csv').dropna(axis=1, how='all')"
   ]
  },
  {
   "cell_type": "markdown",
   "metadata": {},
   "source": [
    "## 2. Data understanding:"
   ]
  },
  {
   "cell_type": "code",
   "execution_count": 664,
   "metadata": {},
   "outputs": [],
   "source": [
    "## Investigate the datasets\n",
    "## Un-comment to view ##\n",
    "#bos_cal.head()\n",
    "#bos_list.head()\n",
    "#bos_rev.head()\n",
    "#sea_cal.head()\n",
    "#sea_list.head()\n",
    "#sea_rev.head()\n",
    "\n",
    "## View the number of columns in the listings dataset\n",
    "## Un-comment to view ##\n",
    "#bos_list.shape\n",
    "#sea_list.shape"
   ]
  },
  {
   "cell_type": "code",
   "execution_count": 665,
   "metadata": {},
   "outputs": [],
   "source": [
    "# View all column names of the listing dataframes\n",
    "list_col_bos=bos_list.columns.tolist()\n",
    "list_col_sea=sea_list.columns.tolist()\n",
    "## Un-comment to view ##\n",
    "#list_col_bos\n",
    "#list_col_sea"
   ]
  },
  {
   "cell_type": "code",
   "execution_count": 666,
   "metadata": {},
   "outputs": [],
   "source": [
    "# Rename id in bos_list and sea_list to be listing_id for clarity\n",
    "bos_list=bos_list.rename(columns={'id':'listing_id'})\n",
    "sea_list=sea_list.rename(columns={'id':'listing_id'})"
   ]
  },
  {
   "cell_type": "code",
   "execution_count": 667,
   "metadata": {},
   "outputs": [],
   "source": [
    "# Drop unneccessary columns\n",
    "bos_list=bos_list.drop(['listing_url','thumbnail_url','medium_url','picture_url','xl_picture_url',\n",
    "               'host_url', 'host_thumbnail_url','host_picture_url'], axis=1)"
   ]
  },
  {
   "cell_type": "code",
   "execution_count": 668,
   "metadata": {},
   "outputs": [],
   "source": [
    "# List all columns in the calendar dataframe - used for understanding the data.\n",
    "cal_col=bos_cal.columns.tolist()\n",
    "## Un-comment to view ##\n",
    "#cal_col"
   ]
  },
  {
   "cell_type": "code",
   "execution_count": 669,
   "metadata": {},
   "outputs": [],
   "source": [
    "# List all columns in the review dataframe  - used for understanding the data.\n",
    "rev_col=bos_rev.columns.tolist()\n",
    "## Un-comment to view ##\n",
    "#rev_col"
   ]
  },
  {
   "cell_type": "code",
   "execution_count": 670,
   "metadata": {},
   "outputs": [
    {
     "data": {
      "text/plain": [
       "listing_id     0.000000\n",
       "date           0.000000\n",
       "available      0.000000\n",
       "price         50.871578\n",
       "dtype: float64"
      ]
     },
     "execution_count": 670,
     "metadata": {},
     "output_type": "execute_result"
    }
   ],
   "source": [
    "# Check how many of each column are null in the Boston calendar dataframe as a percentage of all listings\n",
    "bos_cal.isnull().sum()/bos_cal.shape[0]*100\n",
    "# 50% of price are null"
   ]
  },
  {
   "cell_type": "code",
   "execution_count": 671,
   "metadata": {},
   "outputs": [
    {
     "name": "stdout",
     "output_type": "stream",
     "text": [
      "There are less NaNs in the price column of the listings dataset than the calendar dataset\n"
     ]
    }
   ],
   "source": [
    "# Can we find the prices in the listings dataframe?\n",
    "bos_list.columns\n",
    "# Price is included as a column in the listings dataframe\n",
    "# Check if the number of NaN values in the listings dataframe is equal to that in the calendar dataframe \n",
    "list_null = bos_list['price'].isnull().sum()\n",
    "cal_null = bos_cal['price'].isnull().sum()\n",
    "\n",
    "if list_null == cal_null:\n",
    "    print('There are the same number of NaNs in the price column of the listings dataset and the calendar dataset')\n",
    "elif list_null < cal_null:\n",
    "    print('There are less NaNs in the price column of the listings dataset than the calendar dataset')\n",
    "else:\n",
    "    print('There are more NaNs in the price column of the listings dataset than the calendar dataset')"
   ]
  },
  {
   "cell_type": "code",
   "execution_count": 672,
   "metadata": {},
   "outputs": [
    {
     "name": "stdout",
     "output_type": "stream",
     "text": [
      "For Boston, the number of dates where availability is false for listings is 665853\n",
      "For Boston, the number of prices values which are nulls for dates where availability is false for listings is 665853\n",
      "For Seattle, the number of dates where availability is false for listings is 459028\n",
      "For Seattle, the number of prices values which are nulls for dates where availability is false for listings is 459028\n"
     ]
    }
   ],
   "source": [
    "# Create a dataframe where all the availability is false\n",
    "bos_cal_f = bos_cal[bos_cal['available']=='f']\n",
    "sea_cal_f = sea_cal[sea_cal['available']=='f']\n",
    "\n",
    "# Check if price is always NaN for when availability is false\n",
    "no_of_f_bos = bos_cal_f.shape[0]\n",
    "val_count_bos = bos_cal_f['price'].isnull().sum()\n",
    "print('For Boston, the number of dates where availability is false for listings is ' + str(no_of_f_bos))\n",
    "print('For Boston, the number of prices values which are nulls for dates where availability is false for listings is ' \n",
    "      + str(val_count_bos))\n",
    "no_of_f_sea = sea_cal_f.shape[0]\n",
    "val_count_sea = sea_cal_f['price'].isnull().sum()\n",
    "print('For Seattle, the number of dates where availability is false for listings is ' + str(no_of_f_sea))\n",
    "print('For Seattle, the number of prices values which are nulls for dates where availability is false for listings is ' \n",
    "      + str(val_count_sea))\n",
    "# We can conclude that the price is always shown as NaN when a listing is booked. \n",
    "# Therefore the price column is not useful to us, so we will drop it."
   ]
  },
  {
   "cell_type": "markdown",
   "metadata": {},
   "source": [
    "**Data understanding findings**:\n",
    "- The listings datasets are the largest, containing 83 column headings for the Boston listing, and 91 column headings for the Seattle listings\n",
    "- The calendar datasets detail the availability of a listing. When the value for available is false, the price is always NaN.\n",
    "- The reviews datasets contains all reviews"
   ]
  },
  {
   "cell_type": "markdown",
   "metadata": {},
   "source": [
    "## 3. Data preparation:\n",
    "There is a large amount of missing data in the price column of the calendar datasets – we need to handle this."
   ]
  },
  {
   "cell_type": "code",
   "execution_count": 673,
   "metadata": {},
   "outputs": [],
   "source": [
    "# Drop price column from calendar dataframe\n",
    "bos_cal=bos_cal.drop('price', axis=1)\n",
    "sea_cal=sea_cal.drop('price', axis=1)"
   ]
  },
  {
   "cell_type": "markdown",
   "metadata": {},
   "source": [
    "## 4. Analyze and visualise:"
   ]
  },
  {
   "cell_type": "markdown",
   "metadata": {},
   "source": [
    "### Q1: Do Seattle and Boston follow the same pattern of availability?"
   ]
  },
  {
   "cell_type": "code",
   "execution_count": 674,
   "metadata": {},
   "outputs": [
    {
     "data": {
      "text/html": [
       "<div>\n",
       "<style scoped>\n",
       "    .dataframe tbody tr th:only-of-type {\n",
       "        vertical-align: middle;\n",
       "    }\n",
       "\n",
       "    .dataframe tbody tr th {\n",
       "        vertical-align: top;\n",
       "    }\n",
       "\n",
       "    .dataframe thead th {\n",
       "        text-align: right;\n",
       "    }\n",
       "</style>\n",
       "<table border=\"1\" class=\"dataframe\">\n",
       "  <thead>\n",
       "    <tr style=\"text-align: right;\">\n",
       "      <th></th>\n",
       "      <th>listing_id</th>\n",
       "      <th>date</th>\n",
       "      <th>available</th>\n",
       "    </tr>\n",
       "  </thead>\n",
       "  <tbody>\n",
       "    <tr>\n",
       "      <th>0</th>\n",
       "      <td>12147973</td>\n",
       "      <td>2017-09-05</td>\n",
       "      <td>False</td>\n",
       "    </tr>\n",
       "    <tr>\n",
       "      <th>1</th>\n",
       "      <td>12147973</td>\n",
       "      <td>2017-09-04</td>\n",
       "      <td>False</td>\n",
       "    </tr>\n",
       "    <tr>\n",
       "      <th>2</th>\n",
       "      <td>12147973</td>\n",
       "      <td>2017-09-03</td>\n",
       "      <td>False</td>\n",
       "    </tr>\n",
       "    <tr>\n",
       "      <th>3</th>\n",
       "      <td>12147973</td>\n",
       "      <td>2017-09-02</td>\n",
       "      <td>False</td>\n",
       "    </tr>\n",
       "    <tr>\n",
       "      <th>4</th>\n",
       "      <td>12147973</td>\n",
       "      <td>2017-09-01</td>\n",
       "      <td>False</td>\n",
       "    </tr>\n",
       "    <tr>\n",
       "      <th>...</th>\n",
       "      <td>...</td>\n",
       "      <td>...</td>\n",
       "      <td>...</td>\n",
       "    </tr>\n",
       "    <tr>\n",
       "      <th>1308885</th>\n",
       "      <td>14504422</td>\n",
       "      <td>2016-09-10</td>\n",
       "      <td>False</td>\n",
       "    </tr>\n",
       "    <tr>\n",
       "      <th>1308886</th>\n",
       "      <td>14504422</td>\n",
       "      <td>2016-09-09</td>\n",
       "      <td>False</td>\n",
       "    </tr>\n",
       "    <tr>\n",
       "      <th>1308887</th>\n",
       "      <td>14504422</td>\n",
       "      <td>2016-09-08</td>\n",
       "      <td>False</td>\n",
       "    </tr>\n",
       "    <tr>\n",
       "      <th>1308888</th>\n",
       "      <td>14504422</td>\n",
       "      <td>2016-09-07</td>\n",
       "      <td>False</td>\n",
       "    </tr>\n",
       "    <tr>\n",
       "      <th>1308889</th>\n",
       "      <td>14504422</td>\n",
       "      <td>2016-09-06</td>\n",
       "      <td>False</td>\n",
       "    </tr>\n",
       "  </tbody>\n",
       "</table>\n",
       "<p>1308890 rows × 3 columns</p>\n",
       "</div>"
      ],
      "text/plain": [
       "         listing_id        date  available\n",
       "0          12147973  2017-09-05      False\n",
       "1          12147973  2017-09-04      False\n",
       "2          12147973  2017-09-03      False\n",
       "3          12147973  2017-09-02      False\n",
       "4          12147973  2017-09-01      False\n",
       "...             ...         ...        ...\n",
       "1308885    14504422  2016-09-10      False\n",
       "1308886    14504422  2016-09-09      False\n",
       "1308887    14504422  2016-09-08      False\n",
       "1308888    14504422  2016-09-07      False\n",
       "1308889    14504422  2016-09-06      False\n",
       "\n",
       "[1308890 rows x 3 columns]"
      ]
     },
     "execution_count": 674,
     "metadata": {},
     "output_type": "execute_result"
    }
   ],
   "source": [
    "# Convert the available column into a boolean column\n",
    "my_dict = {'t': True, 'f': False}\n",
    "\n",
    "bos_cal['available']=bos_cal['available'].map(my_dict)\n",
    "sea_cal['available']=sea_cal['available'].map(my_dict)"
   ]
  },
  {
   "cell_type": "code",
   "execution_count": 675,
   "metadata": {},
   "outputs": [],
   "source": [
    "# Drop all rows where the date value is null\n",
    "sea_cal=sea_cal.dropna(axis=0, subset=['date'])\n",
    "bos_cal=bos_cal.dropna(axis=0, subset=['date'])"
   ]
  },
  {
   "cell_type": "code",
   "execution_count": 676,
   "metadata": {},
   "outputs": [],
   "source": [
    "# Calculate what percentage of listings are available on a certain date. \n",
    "# The higher the percentage the more properties are available.\n",
    "prc_av_bos = bos_cal.groupby('date')['available'].sum()/bos_cal.groupby('date').size()*100\n",
    "prc_av_sea = sea_cal.groupby('date')['available'].sum()/sea_cal.groupby('date').size()*100"
   ]
  },
  {
   "cell_type": "code",
   "execution_count": 677,
   "metadata": {
    "scrolled": false
   },
   "outputs": [
    {
     "data": {
      "image/png": "[encoded data removed]",
      "text/plain": [
       "<Figure size 720x720 with 1 Axes>"
      ]
     },
     "metadata": {
      "needs_background": "light"
     },
     "output_type": "display_data"
    }
   ],
   "source": [
    "# Plot the percentage of available listings by date, for both Boston and Seattle.\n",
    "fig, ax = plt.subplots()\n",
    "prc_av_sea.plot(figsize=(10,10), label = 'Seattle')\n",
    "prc_av_bos.plot(figsize=(10,10), label = 'Boston')\n",
    "plt.legend()\n",
    "plt.title('AirBnB availability over a year')\n",
    "plt.xlabel('Date')\n",
    "plt.ylabel('Available properties (%)')\n",
    "plt.show()\n",
    "# The higher the percentage the more properties are available.\n",
    "# We can conclude that Seattle and Boston follow roughly the same patterns of availability."
   ]
  },
  {
   "cell_type": "markdown",
   "metadata": {},
   "source": [
    "### Q2: Which season is the most popular? "
   ]
  },
  {
   "cell_type": "markdown",
   "metadata": {},
   "source": [
    "To analyse this we need to group dates into seasons.\n",
    "\n",
    "The dataframes have data for a whole year from 09/2016-08/2017.\n",
    "\n",
    "We will group as follows, using the numeric value of the month:\n",
    "\n",
    "- 09, 10, 11 = Autumn\n",
    "- 12, 01, 02 = Winter\n",
    "- 03, 04, 05 = Spring\n",
    "- 06, 07, 08 = Summer\n"
   ]
  },
  {
   "cell_type": "code",
   "execution_count": 678,
   "metadata": {},
   "outputs": [],
   "source": [
    "# Convert the dates to datetime format\n",
    "bos_cal['date'] = pd.to_datetime(bos_cal['date'], format='%Y-%m-%d')\n",
    "sea_cal['date'] = pd.to_datetime(bos_cal['date'], format='%Y-%m-%d')"
   ]
  },
  {
   "cell_type": "code",
   "execution_count": 679,
   "metadata": {},
   "outputs": [],
   "source": [
    "# Drop NaN values\n",
    "bos_cal=bos_cal.dropna(axis=0, subset=['date'])\n",
    "sea_cal=sea_cal.dropna(axis=0, subset=['date'])"
   ]
  },
  {
   "cell_type": "code",
   "execution_count": 680,
   "metadata": {},
   "outputs": [],
   "source": [
    "# Create a function to extract the month from the date and identify it as one of the seasons.\n",
    "def month_season(date):\n",
    "    '''Takes the month and returns the associated season'''\n",
    "    if date.month in [9, 10, 11]:\n",
    "        return 'Autumn'\n",
    "    elif date.month in [12, 1, 2]:\n",
    "        return 'Winter'\n",
    "    elif date.month in [3,4,5]:\n",
    "        return 'Spring'\n",
    "    elif date.month in [6,7,8]:\n",
    "        return 'Summer'\n",
    "    else:\n",
    "        return 'NaN'"
   ]
  },
  {
   "cell_type": "code",
   "execution_count": 681,
   "metadata": {},
   "outputs": [],
   "source": [
    "# Define a new season column\n",
    "bos_cal['season'] = bos_cal['date'].apply(month_season)\n",
    "sea_cal['season'] = sea_cal['date'].apply(month_season)"
   ]
  },
  {
   "cell_type": "code",
   "execution_count": 682,
   "metadata": {},
   "outputs": [
    {
     "data": {
      "text/plain": [
       "season\n",
       "Autumn    30.279230\n",
       "Spring    33.017289\n",
       "Summer    34.664395\n",
       "Winter    34.462725\n",
       "dtype: float64"
      ]
     },
     "execution_count": 682,
     "metadata": {},
     "output_type": "execute_result"
    }
   ],
   "source": [
    "# Calculate the percentage booked/unavailable by season\n",
    "season_av_bos = (1-(bos_cal.groupby('season')['available'].sum()/bos_cal.groupby('season').size()))*100\n",
    "season_av_sea = (1-(sea_cal.groupby('season')['available'].sum()/sea_cal.groupby('season').size()))*100\n",
    "season_av_sea"
   ]
  },
  {
   "cell_type": "code",
   "execution_count": 683,
   "metadata": {},
   "outputs": [
    {
     "data": {
      "image/png": "[encoded data removed]",
      "text/plain": [
       "<Figure size 432x288 with 1 Axes>"
      ]
     },
     "metadata": {
      "needs_background": "light"
     },
     "output_type": "display_data"
    }
   ],
   "source": [
    "# Plot the percentage of listings booked by season, comparing Boston and Seattle\n",
    "x=['Autumn', 'Winter', 'Spring', 'Summer']\n",
    "x_ax= np.arange(len(x))\n",
    "\n",
    "plt.bar(x_ax-0.2, season_av_bos, width=0.4, label='Boston')\n",
    "plt.bar(x_ax+0.2, season_av_sea, width=0.4, label='Seattle')\n",
    "plt.xticks(x_ax, x)\n",
    "plt.xlabel('Season')\n",
    "plt.ylabel('Booked properties (%)')\n",
    "plt.legend()\n",
    "plt.show()"
   ]
  },
  {
   "cell_type": "markdown",
   "metadata": {},
   "source": [
    "### Q3: Where is the highest ranked neighbourhood in Boston?"
   ]
  },
  {
   "cell_type": "code",
   "execution_count": 684,
   "metadata": {},
   "outputs": [
    {
     "data": {
      "text/plain": [
       "neighbourhood                   object\n",
       "neighbourhood_cleansed          object\n",
       "number_of_reviews                int64\n",
       "first_review                    object\n",
       "last_review                     object\n",
       "review_scores_rating           float64\n",
       "review_scores_accuracy         float64\n",
       "review_scores_cleanliness      float64\n",
       "review_scores_checkin          float64\n",
       "review_scores_communication    float64\n",
       "review_scores_location         float64\n",
       "review_scores_value            float64\n",
       "dtype: object"
      ]
     },
     "execution_count": 684,
     "metadata": {},
     "output_type": "execute_result"
    }
   ],
   "source": [
    "# Filter the bos_list dataframe for neighbourhood and review columns.\n",
    "bos_list_nbhd = bos_list[['neighbourhood', \n",
    "                        'neighbourhood_cleansed', \n",
    "                        'number_of_reviews',\n",
    "                        'first_review',\n",
    "                        'last_review',\n",
    "                        'review_scores_rating',\n",
    "                        'review_scores_accuracy',\n",
    "                        'review_scores_cleanliness',\n",
    "                        'review_scores_checkin',\n",
    "                        'review_scores_communication',\n",
    "                        'review_scores_location',\n",
    "                        'review_scores_value']]\n",
    "# View the data types, to check review scores are numeric\n",
    "bos_list_nbhd.dtypes"
   ]
  },
  {
   "cell_type": "code",
   "execution_count": 685,
   "metadata": {},
   "outputs": [],
   "source": [
    "# Calculate average score for each review category for all neighbourhoods\n",
    "bos_nbhd_avg=bos_list_nbhd.groupby(['neighbourhood']).mean().reset_index()"
   ]
  },
  {
   "cell_type": "code",
   "execution_count": 686,
   "metadata": {},
   "outputs": [],
   "source": [
    "# Find the highest rated neighbourhood for each category\n",
    "highest_rating=bos_nbhd_avg['neighbourhood'].iloc[bos_nbhd_avg['review_scores_rating'].idxmax()]\n",
    "highest_acc=bos_nbhd_avg['neighbourhood'].iloc[bos_nbhd_avg['review_scores_accuracy'].idxmax()]\n",
    "highest_clean=bos_nbhd_avg['neighbourhood'].iloc[bos_nbhd_avg['review_scores_cleanliness'].idxmax()]\n",
    "highest_check=bos_nbhd_avg['neighbourhood'].iloc[bos_nbhd_avg['review_scores_checkin'].idxmax()]\n",
    "highest_comms=bos_nbhd_avg['neighbourhood'].iloc[bos_nbhd_avg['review_scores_communication'].idxmax()]\n",
    "highest_loc=bos_nbhd_avg['neighbourhood'].iloc[bos_nbhd_avg['review_scores_location'].idxmax()]\n",
    "highest_val=bos_nbhd_avg['neighbourhood'].iloc[bos_nbhd_avg['review_scores_value'].idxmax()]"
   ]
  },
  {
   "cell_type": "markdown",
   "metadata": {},
   "source": [
    "**Here are the results**:\n",
    "\n",
    "highest_rating = Brookline\n",
    "\n",
    "highest_acc = Brookline\n",
    "\n",
    "highest_clean = Brookline\n",
    "\n",
    "highest_check = Financial District\n",
    "\n",
    "highest_comms = Brookline\n",
    "\n",
    "highest_loc = Brookline\n",
    "\n",
    "highest_val = Financial District\n",
    "\n",
    "**Brookline appears to be the best performing area.**"
   ]
  },
  {
   "cell_type": "code",
   "execution_count": 687,
   "metadata": {},
   "outputs": [
    {
     "name": "stdout",
     "output_type": "stream",
     "text": [
      "The average number of reviews per property across neighbourhoods is 16.036019710577804\n",
      "The average number of reviews per property for Brookline is 0.75\n"
     ]
    }
   ],
   "source": [
    "# Investigate the average number of reviews per neighbourhood, vs. the average number for Brookline\n",
    "print('The average number of reviews per property across neighbourhoods is ' + \n",
    "      str(bos_nbhd_avg['number_of_reviews'].mean()))\n",
    "# The mean is 16 reviews\n",
    "print('The average number of reviews per property for Brookline is ' + \n",
    "      str(bos_nbhd_avg[bos_nbhd_avg['neighbourhood']=='Brookline']['number_of_reviews'].mean()))"
   ]
  },
  {
   "cell_type": "markdown",
   "metadata": {},
   "source": [
    "The significantly small number of reviews per property, in comparison to the average, could explain why Brookline is ranked so highly.\n",
    "We will recalculate these values for only neighbourhoods which contain at least 10 reviews per property on average. "
   ]
  },
  {
   "cell_type": "code",
   "execution_count": 688,
   "metadata": {},
   "outputs": [],
   "source": [
    "# Filter for only neighbourhoods with at least 10 reviews per property on average. \n",
    "bos_nbhd_avg_filt=bos_nbhd_avg.query('number_of_reviews>=10.0').reset_index()"
   ]
  },
  {
   "cell_type": "code",
   "execution_count": 689,
   "metadata": {},
   "outputs": [],
   "source": [
    "# Find the highest rated neighbourhood for each category\n",
    "highest_rating=bos_nbhd_avg_filt['neighbourhood'].iloc[bos_nbhd_avg_filt['review_scores_rating'].idxmax()]\n",
    "highest_acc=bos_nbhd_avg_filt['neighbourhood'].iloc[bos_nbhd_avg_filt['review_scores_accuracy'].idxmax()]\n",
    "highest_clean=bos_nbhd_avg_filt['neighbourhood'].iloc[bos_nbhd_avg_filt['review_scores_cleanliness'].idxmax()]\n",
    "highest_check=bos_nbhd_avg_filt['neighbourhood'].iloc[bos_nbhd_avg_filt['review_scores_checkin'].idxmax()]\n",
    "highest_comms=bos_nbhd_avg_filt['neighbourhood'].iloc[bos_nbhd_avg_filt['review_scores_communication'].idxmax()]\n",
    "highest_loc=bos_nbhd_avg_filt['neighbourhood'].iloc[bos_nbhd_avg_filt['review_scores_location'].idxmax()]\n",
    "highest_val=bos_nbhd_avg_filt['neighbourhood'].iloc[bos_nbhd_avg_filt['review_scores_value'].idxmax()]"
   ]
  },
  {
   "cell_type": "markdown",
   "metadata": {},
   "source": [
    "**Here are the results**:\n",
    "\n",
    "highest_rating = Leather District\n",
    "\n",
    "highest_acc = Roslindale\n",
    "\n",
    "highest_clean = West Roxbury\n",
    "\n",
    "highest_check = Leather District\n",
    "\n",
    "highest_comms = West Roxbury\n",
    "\n",
    "highest_loc = Government Center\n",
    "\n",
    "highest_val = Leather District\n",
    "\n",
    "**The Leather District ranked top on 3/7 categories.**"
   ]
  }
 ],
 "metadata": {
  "kernelspec": {
   "display_name": "Python 3",
   "language": "python",
   "name": "python3"
  },
  "language_info": {
   "codemirror_mode": {
    "name": "ipython",
    "version": 3
   },
   "file_extension": ".py",
   "mimetype": "text/x-python",
   "name": "python",
   "nbconvert_exporter": "python",
   "pygments_lexer": "ipython3",
   "version": "3.8.3"
  }
 },
 "nbformat": 4,
 "nbformat_minor": 4
}
